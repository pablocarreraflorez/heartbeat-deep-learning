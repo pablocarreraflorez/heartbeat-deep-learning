{
 "cells": [
  {
   "cell_type": "markdown",
   "metadata": {},
   "source": [
    "https://www.kaggle.com/shayanfazeli/heartbeat"
   ]
  },
  {
   "cell_type": "markdown",
   "metadata": {
    "ExecuteTime": {
     "end_time": "2019-04-10T09:06:35.053915Z",
     "start_time": "2019-04-10T09:06:35.045455Z"
    }
   },
   "source": [
    "Objectives: Can you identify myocardial infarction ?"
   ]
  },
  {
   "cell_type": "code",
   "execution_count": 85,
   "metadata": {
    "ExecuteTime": {
     "end_time": "2019-04-10T10:54:20.981652Z",
     "start_time": "2019-04-10T10:54:13.497882Z"
    }
   },
   "outputs": [],
   "source": [
    "import pandas as pd\n",
    "import numpy as np\n",
    "import matplotlib.pyplot as plt\n",
    "import random\n",
    "\n",
    "import warnings\n",
    "\n",
    "from sklearn.tree import DecisionTreeClassifier\n",
    "from sklearn.svm import SVC\n",
    "from sklearn.model_selection import train_test_split, GridSearchCV"
   ]
  },
  {
   "cell_type": "code",
   "execution_count": 31,
   "metadata": {
    "ExecuteTime": {
     "end_time": "2019-04-10T09:19:49.830956Z",
     "start_time": "2019-04-10T09:19:41.223697Z"
    }
   },
   "outputs": [],
   "source": [
    "mitbih_train=pd.read_csv(\"heartbeat/mitbih_train.csv\", header=None)\n",
    "mitbih_test=pd.read_csv(\"heartbeat/mitbih_test.csv\", header=None)"
   ]
  },
  {
   "cell_type": "code",
   "execution_count": 32,
   "metadata": {
    "ExecuteTime": {
     "end_time": "2019-04-10T09:19:49.839477Z",
     "start_time": "2019-04-10T09:19:49.834753Z"
    }
   },
   "outputs": [
    {
     "name": "stdout",
     "output_type": "stream",
     "text": [
      "Shape of the train dataset (87554, 188)\n",
      "Shape of the test data set (21892, 188)\n"
     ]
    }
   ],
   "source": [
    "print( \"Shape of the train dataset\", mitbih_train.shape )\n",
    "print( \"Shape of the test data set\", mitbih_test.shape )"
   ]
  },
  {
   "cell_type": "code",
   "execution_count": 33,
   "metadata": {
    "ExecuteTime": {
     "end_time": "2019-04-10T09:19:49.959158Z",
     "start_time": "2019-04-10T09:19:49.842770Z"
    }
   },
   "outputs": [],
   "source": [
    "x=np.arange(0,mitbih_train.shape[1])\n",
    "nombres=list()\n",
    "for i in range(mitbih_train.shape[1]):\n",
    "    nombres.append( \"signal_\"+str(x[i]) )\n",
    "mitbih_train.columns=nombres"
   ]
  },
  {
   "cell_type": "code",
   "execution_count": 34,
   "metadata": {
    "ExecuteTime": {
     "end_time": "2019-04-10T09:19:51.704913Z",
     "start_time": "2019-04-10T09:19:49.961965Z"
    }
   },
   "outputs": [
    {
     "name": "stdout",
     "output_type": "stream",
     "text": [
      "<class 'pandas.core.frame.DataFrame'>\n",
      "RangeIndex: 87554 entries, 0 to 87553\n",
      "Columns: 188 entries, signal_0 to signal_187\n",
      "dtypes: float64(188)\n",
      "memory usage: 125.6 MB\n",
      "Information of the train dataset None\n",
      "Description of the train dataset            signal_0      signal_1      signal_2      signal_3      signal_4  \\\n",
      "count  87554.000000  87554.000000  87554.000000  87554.000000  87554.000000   \n",
      "mean       0.890360      0.758160      0.423972      0.219104      0.201127   \n",
      "std        0.240909      0.221813      0.227305      0.206878      0.177058   \n",
      "min        0.000000      0.000000      0.000000      0.000000      0.000000   \n",
      "25%        0.921922      0.682486      0.250969      0.048458      0.082329   \n",
      "50%        0.991342      0.826013      0.429472      0.166000      0.147878   \n",
      "75%        1.000000      0.910506      0.578767      0.341727      0.258993   \n",
      "max        1.000000      1.000000      1.000000      1.000000      1.000000   \n",
      "\n",
      "           signal_5      signal_6      signal_7      signal_8      signal_9  \\\n",
      "count  87554.000000  87554.000000  87554.000000  87554.000000  87554.000000   \n",
      "mean       0.210399      0.205808      0.201773      0.198691      0.196757   \n",
      "std        0.171909      0.178481      0.177240      0.171778      0.168357   \n",
      "min        0.000000      0.000000      0.000000      0.000000      0.000000   \n",
      "25%        0.088416      0.073333      0.066116      0.065000      0.068639   \n",
      "50%        0.158798      0.145324      0.144424      0.150000      0.148734   \n",
      "75%        0.287628      0.298237      0.295391      0.290832      0.283636   \n",
      "max        1.000000      1.000000      1.000000      1.000000      1.000000   \n",
      "\n",
      "           ...         signal_178    signal_179    signal_180    signal_181  \\\n",
      "count      ...       87554.000000  87554.000000  87554.000000  87554.000000   \n",
      "mean       ...           0.005025      0.004628      0.004291      0.003945   \n",
      "std        ...           0.044154      0.042089      0.040525      0.038651   \n",
      "min        ...           0.000000      0.000000      0.000000      0.000000   \n",
      "25%        ...           0.000000      0.000000      0.000000      0.000000   \n",
      "50%        ...           0.000000      0.000000      0.000000      0.000000   \n",
      "75%        ...           0.000000      0.000000      0.000000      0.000000   \n",
      "max        ...           1.000000      1.000000      1.000000      1.000000   \n",
      "\n",
      "         signal_182    signal_183    signal_184    signal_185    signal_186  \\\n",
      "count  87554.000000  87554.000000  87554.000000  87554.000000  87554.000000   \n",
      "mean       0.003681      0.003471      0.003221      0.002945      0.002807   \n",
      "std        0.037193      0.036255      0.034789      0.032865      0.031924   \n",
      "min        0.000000      0.000000      0.000000      0.000000      0.000000   \n",
      "25%        0.000000      0.000000      0.000000      0.000000      0.000000   \n",
      "50%        0.000000      0.000000      0.000000      0.000000      0.000000   \n",
      "75%        0.000000      0.000000      0.000000      0.000000      0.000000   \n",
      "max        1.000000      1.000000      1.000000      1.000000      1.000000   \n",
      "\n",
      "         signal_187  \n",
      "count  87554.000000  \n",
      "mean       0.473376  \n",
      "std        1.143184  \n",
      "min        0.000000  \n",
      "25%        0.000000  \n",
      "50%        0.000000  \n",
      "75%        0.000000  \n",
      "max        4.000000  \n",
      "\n",
      "[8 rows x 188 columns]\n"
     ]
    }
   ],
   "source": [
    "print( \"Information of the train dataset\", mitbih_train.info() )\n",
    "print(\"Description of the train dataset\", mitbih_train.describe() )"
   ]
  },
  {
   "cell_type": "code",
   "execution_count": 47,
   "metadata": {
    "ExecuteTime": {
     "end_time": "2019-04-10T10:30:50.743168Z",
     "start_time": "2019-04-10T10:30:50.556421Z"
    }
   },
   "outputs": [],
   "source": [
    "mitbih_train=mitbih_train.rename(index=str,columns={\"signal_187\":\"Label\"})"
   ]
  },
  {
   "cell_type": "code",
   "execution_count": 65,
   "metadata": {
    "ExecuteTime": {
     "end_time": "2019-04-10T10:37:53.663126Z",
     "start_time": "2019-04-10T10:37:53.370935Z"
    }
   },
   "outputs": [
    {
     "name": "stdout",
     "output_type": "stream",
     "text": [
      "Counts on different classes\n",
      " Label\n",
      "0.0    72471\n",
      "1.0     2223\n",
      "2.0     5788\n",
      "3.0      641\n",
      "4.0     6431\n",
      "Name: signal_0, dtype: int64\n",
      "\n",
      "Percentage of the different classes\n",
      " Label\n",
      "0.0    82.772917\n",
      "1.0     2.539005\n",
      "2.0     6.610777\n",
      "3.0     0.732120\n",
      "4.0     7.345181\n",
      "Name: signal_0, dtype: float64\n"
     ]
    }
   ],
   "source": [
    "print( \"Counts on different classes\\n\", mitbih_train.groupby(\"Label\").count().signal_0 )\n",
    "\n",
    "print( \"\\nPercentage of the different classes\\n\", \n",
    "      mitbih_train.groupby(\"Label\").count().signal_0*100/mitbih_train.shape[0] )"
   ]
  },
  {
   "cell_type": "code",
   "execution_count": 49,
   "metadata": {
    "ExecuteTime": {
     "end_time": "2019-04-10T10:33:01.854357Z",
     "start_time": "2019-04-10T10:33:01.669604Z"
    }
   },
   "outputs": [
    {
     "data": {
      "image/png": "[encoded data removed]",
      "text/plain": [
       "<Figure size 432x288 with 1 Axes>"
      ]
     },
     "metadata": {
      "needs_background": "light"
     },
     "output_type": "display_data"
    }
   ],
   "source": [
    "mitbih_train.hist(column=\"Label\")\n",
    "plt.show()"
   ]
  },
  {
   "cell_type": "code",
   "execution_count": 68,
   "metadata": {
    "ExecuteTime": {
     "end_time": "2019-04-10T10:41:44.850125Z",
     "start_time": "2019-04-10T10:41:43.121438Z"
    }
   },
   "outputs": [],
   "source": [
    "heartbeat=list()\n",
    "for i in range(mitbih_train.shape[0]):\n",
    "    if mitbih_train.Label[i]==0:\n",
    "        heartbeat.append(0)\n",
    "    else:\n",
    "        heartbeat.append(1)"
   ]
  },
  {
   "cell_type": "code",
   "execution_count": 80,
   "metadata": {
    "ExecuteTime": {
     "end_time": "2019-04-10T10:51:42.979912Z",
     "start_time": "2019-04-10T10:51:42.805308Z"
    }
   },
   "outputs": [],
   "source": [
    "mitbih_train[\"Heart\"]=pd.Series(heartbeat)"
   ]
  },
  {
   "cell_type": "code",
   "execution_count": null,
   "metadata": {},
   "outputs": [],
   "source": []
  },
  {
   "cell_type": "code",
   "execution_count": null,
   "metadata": {},
   "outputs": [],
   "source": []
  },
  {
   "cell_type": "code",
   "execution_count": 83,
   "metadata": {
    "ExecuteTime": {
     "end_time": "2019-04-10T10:53:54.095925Z",
     "start_time": "2019-04-10T10:53:53.318301Z"
    }
   },
   "outputs": [],
   "source": [
    "Y2=mitbih_train.Heart\n",
    "Y1=mitbih_train.Label\n",
    "X=mitbih_train.drop([\"Heart\",\"Label\"],axis=1)"
   ]
  },
  {
   "cell_type": "code",
   "execution_count": 86,
   "metadata": {
    "ExecuteTime": {
     "end_time": "2019-04-10T10:54:21.173503Z",
     "start_time": "2019-04-10T10:54:20.987524Z"
    }
   },
   "outputs": [],
   "source": [
    "X_train, X_test, y_train, y_test = train_test_split(X,\n",
    "                                                    Y2,\n",
    "                                                    test_size = 0.3,\n",
    "                                                    random_state = 1)"
   ]
  },
  {
   "cell_type": "code",
   "execution_count": null,
   "metadata": {
    "ExecuteTime": {
     "start_time": "2019-04-10T11:02:53.377Z"
    }
   },
   "outputs": [],
   "source": [
    "model = [\"Tree\"]\n",
    "learners = [DecisionTreeClassifier(random_state = 1, max_depth=20, max_features=10)]"
   ]
  },
  {
   "cell_type": "code",
   "execution_count": null,
   "metadata": {
    "ExecuteTime": {
     "start_time": "2019-04-10T10:57:33.590Z"
    }
   },
   "outputs": [
    {
     "name": "stdout",
     "output_type": "stream",
     "text": [
      "Accuracy train Tree : 0.9907647625108098\n",
      "Accuracy test  Tree : 0.9548482887273004\n"
     ]
    },
    {
     "name": "stderr",
     "output_type": "stream",
     "text": [
      "/home/jose/anaconda3/lib/python3.6/site-packages/sklearn/svm/base.py:196: FutureWarning: The default value of gamma will change from 'auto' to 'scale' in version 0.22 to account better for unscaled features. Set gamma explicitly to 'auto' or 'scale' to avoid this warning.\n",
      "  \"avoid this warning.\", FutureWarning)\n"
     ]
    }
   ],
   "source": [
    "%%time\n",
    "\n",
    "results=[]\n",
    "for i in range(len(model)):\n",
    "    learners[i].fit(X_train, y_train)\n",
    "    print(\"Accuracy train\", model[i], \":\", learners[i].score(X_train, y_train))\n",
    "    print(\"Accuracy test \", model[i], \":\", learners[i].score(X_test, y_test))"
   ]
  },
  {
   "cell_type": "code",
   "execution_count": null,
   "metadata": {},
   "outputs": [],
   "source": []
  },
  {
   "cell_type": "code",
   "execution_count": null,
   "metadata": {},
   "outputs": [],
   "source": []
  },
  {
   "cell_type": "code",
   "execution_count": null,
   "metadata": {},
   "outputs": [],
   "source": []
  }
 ],
 "metadata": {
  "kernelspec": {
   "display_name": "Python 3",
   "language": "python",
   "name": "python3"
  },
  "language_info": {
   "codemirror_mode": {
    "name": "ipython",
    "version": 3
   },
   "file_extension": ".py",
   "mimetype": "text/x-python",
   "name": "python",
   "nbconvert_exporter": "python",
   "pygments_lexer": "ipython3",
   "version": "3.6.8"
  },
  "latex_envs": {
   "LaTeX_envs_menu_present": true,
   "autoclose": false,
   "autocomplete": true,
   "bibliofile": "biblio.bib",
   "cite_by": "apalike",
   "current_citInitial": 1,
   "eqLabelWithNumbers": true,
   "eqNumInitial": 1,
   "hotkeys": {
    "equation": "Ctrl-E",
    "itemize": "Ctrl-I"
   },
   "labels_anchors": false,
   "latex_user_defs": false,
   "report_style_numbering": false,
   "user_envs_cfg": false
  },
  "toc": {
   "base_numbering": 1,
   "nav_menu": {},
   "number_sections": true,
   "sideBar": true,
   "skip_h1_title": false,
   "title_cell": "Table of Contents",
   "title_sidebar": "Contents",
   "toc_cell": false,
   "toc_position": {},
   "toc_section_display": true,
   "toc_window_display": false
  }
 },
 "nbformat": 4,
 "nbformat_minor": 2
}
